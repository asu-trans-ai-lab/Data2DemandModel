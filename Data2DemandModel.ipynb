{
  "nbformat": 4,
  "nbformat_minor": 0,
  "metadata": {
    "colab": {
      "name": "TCGLite_v2.ipynb",
      "provenance": [],
      "collapsed_sections": [],
      "include_colab_link": true
    },
    "kernelspec": {
      "name": "python3",
      "display_name": "Python 3"
    },
    "language_info": {
      "name": "python"
    }
  },
  "cells": [
    {
      "cell_type": "markdown",
      "metadata": {
        "id": "view-in-github",
        "colab_type": "text"
      },
      "source": [
        "<a href=\"https://colab.research.google.com/github/asu-trans-ai-lab/Data2DemandModel/blob/master/Data2DemandModel.ipynb\" target=\"_parent\"><img src=\"https://colab.research.google.com/assets/colab-badge.svg\" alt=\"Open In Colab\"/></a>"
      ]
    },
    {
      "cell_type": "code",
      "metadata": {
        "colab": {
          "base_uri": "https://localhost:8080/"
        },
        "id": "KuXhhwlOZ0I-",
        "outputId": "93f049e1-d360-424f-cf1e-ce2563256f9d"
      },
      "source": [
        "\"\"\"Load test datasets from the GitHub repository\"\"\"\n",
        "!rm -rf ./test_data_set/\n",
        "!git clone https://github.com/Taehooie/test_data_set\n",
        "%cd test_data_set"
      ],
      "execution_count": null,
      "outputs": [
        {
          "output_type": "stream",
          "text": [
            "Cloning into 'test_data_set'...\n",
            "remote: Enumerating objects: 3, done.\u001b[K\n",
            "remote: Counting objects:  33% (1/3)\u001b[K\rremote: Counting objects:  66% (2/3)\u001b[K\rremote: Counting objects: 100% (3/3)\u001b[K\rremote: Counting objects: 100% (3/3), done.\u001b[K\n",
            "remote: Compressing objects:  50% (1/2)\u001b[K\rremote: Compressing objects: 100% (2/2)\u001b[K\rremote: Compressing objects: 100% (2/2), done.\u001b[K\n",
            "remote: Total 3 (delta 0), reused 0 (delta 0), pack-reused 0\u001b[K\n",
            "Unpacking objects:  33% (1/3)   \rUnpacking objects:  66% (2/3)   \rUnpacking objects: 100% (3/3)   \rUnpacking objects: 100% (3/3), done.\n",
            "/content/test_data_set\n"
          ],
          "name": "stdout"
        }
      ]
    },
    {
      "cell_type": "code",
      "metadata": {
        "id": "LfgnI8TrGLvo"
      },
      "source": [
        "import pandas as pd\n",
        "import matplotlib.pyplot as plt\n",
        "import tensorflow as tf\n",
        "import numpy as np\n",
        "import timeit\n",
        "pd.options.mode.chained_assignment = None"
      ],
      "execution_count": null,
      "outputs": []
    },
    {
      "cell_type": "code",
      "metadata": {
        "id": "Ir549znLLsCc"
      },
      "source": [
        "\"\"\"\n",
        "This open-source code for OD demand matrix estimation is coded by TensorFlow 2.0, \n",
        "and users can find the original source code, developed by Xin Wu and Xuesong (Simon) Zhou, in \n",
        "[1] https://github.com/asu-trans-ai-lab/ODMELite/blob/master/src/Version2_GMNS_Tensorflow/TCGLite_GMNS.py\n",
        "[2] https://github.com/Grieverwzn/Big-data-driven-computational-graph/blob/master/2.0%20(simple%20version)/BTCGLite.py\n",
        "\n",
        "\"\"\"\n",
        "start = timeit.default_timer()\n",
        "\n",
        "\"\"\"Data Load\"\"\"\n",
        "all_agent_df = pd.read_csv('../test_data_set/agent.csv', encoding='gbk')\n",
        "\"\"\"TODO: four different input datasets\"\"\"\n",
        "\n",
        "# Origin Layer\n",
        "ozone_df = all_agent_df[all_agent_df['agent_type'] == 1]\n",
        "ozone_df.rename(columns={'agent_id':'ozone_id','observations': 'trip_generation'}, inplace=True)\n",
        "# Origin - Destination\n",
        "od_df = all_agent_df[all_agent_df['agent_type'] == 2]\n",
        "od_df.rename(columns={'agent_id':'od_id','observations': 'OD_split'}, inplace=True)\n",
        "# Path\n",
        "path_df = all_agent_df[all_agent_df['agent_type'] == 3]\n",
        "path_df.rename(columns={'agent_id':'path_id','observations': 'path_proportion'}, inplace=True)\n",
        "# Link\n",
        "link_df = all_agent_df[all_agent_df['agent_type'] == 4]\n",
        "link_df.rename(columns={'agent_id':'link_id','observations': 'sensor_count'}, inplace=True)\n",
        "# values bigger than zero\n",
        "link_with_sensor_df = link_df[link_df['sensor_count'] >= 0]\n",
        "# Reset index of each file\n",
        "ozone_df.reset_index(drop=True, inplace=True)\n",
        "od_df.reset_index(drop=True, inplace=True)\n",
        "path_df.reset_index(drop=True, inplace=True)\n",
        "link_df.reset_index(drop=True, inplace=True)\n",
        "\n",
        "\"\"\"Set up lengths of each layer\"\"\"\n",
        "num_survey = 1\n",
        "num_mobile = 1\n",
        "num_float = 1\n",
        "num_sensor = 1\n",
        "num_ozone = ozone_df.shape[0]\n",
        "num_od = od_df.shape[0]\n",
        "num_path = path_df.shape[0]\n",
        "num_link = link_df.shape[0]\n",
        "\n",
        "\"\"\"Define dictionaries\"\"\"\n",
        "# Link layer\n",
        "link_df['link_pair'] = link_df.apply(lambda x: (int(x.o_node_id), int(x.d_node_id)), axis=1)  \n",
        "link_id_pair_dict = link_df[['link_id', 'link_pair']].set_index('link_pair').to_dict()['link_id']\n",
        "\n",
        "# Origin layer\n",
        "node_zone_dict = ozone_df[['o_node_id', 'ozone_id']].set_index('o_node_id').to_dict()['ozone_id']\n",
        "\n",
        "# Origin-Destination layer\n",
        "od_df['od_pair'] = od_df.apply(lambda x: (int(x.o_zone_id), int(x.d_zone_id)), axis=1)\n",
        "od_pair_dict = od_df[['od_pair', 'od_id']].set_index('od_pair').to_dict()['od_id']\n",
        "od_df['ozone_id'] = od_df.apply(lambda x: node_zone_dict[int(x.o_zone_id)], axis=1)\n",
        "\n",
        "# Path to Origin-Destination\n",
        "path_df['od_id'] = path_df.apply(lambda x: od_pair_dict[int(x.o_zone_id), int(x.d_zone_id)], axis=1)\n",
        "path_od_dict = path_df[['path_id', 'od_id']].set_index('path_id').to_dict()['od_id']\n",
        "\n",
        "# Origin-Destination to Origin\n",
        "od_ozone_dict = od_df[['ozone_id', 'od_id']].set_index('od_id').to_dict()['ozone_id']"
      ],
      "execution_count": null,
      "outputs": []
    },
    {
      "cell_type": "code",
      "metadata": {
        "id": "MsyJlQck_90_"
      },
      "source": [
        "\"\"\"Define functions to create variables to be estimated and to link each layer\"\"\"\n",
        "# Create variables for each layer\n",
        "def init_variable(shape, initial_value, layer_name):\n",
        "    estimation = tf.Variable(tf.random.normal(shape, mean=initial_value, stddev=0, dtype=tf.float64, seed=1),\n",
        "                             name=layer_name)\n",
        "    return estimation\n",
        "    \n",
        "# The adjacent layers are connected and normalized\n",
        "def connection(input_layer, trans_mat, inc_mat):\n",
        "    tm = tf.multiply(trans_mat, inc_mat)\n",
        "    trans_mat = tf.transpose(tf.transpose(tm) / tf.reduce_sum(tm, 1))\n",
        "    layer = tf.matmul(input_layer, trans_mat)\n",
        "    return (tf.nn.relu(layer)) "
      ],
      "execution_count": null,
      "outputs": []
    },
    {
      "cell_type": "code",
      "metadata": {
        "id": "vf2E1Wc6AUPW"
      },
      "source": [
        "\"\"\"Construct training datasets\"\"\"\n",
        "# Survey data\n",
        "survey_val = np.zeros(shape=[num_survey, num_ozone])\n",
        "for s in range(num_survey):\n",
        "    survey_val[s] = ozone_df[ozone_df.time_peroid == s + 1].trip_generation\n",
        "\n",
        "# Sensor data\n",
        "sensor_val = np.zeros(shape=[num_sensor, num_link]) \n",
        "for s in range(num_sensor):\n",
        "    sensor_val[s] = link_df[link_df['time_peroid'] == s + 1].sensor_count\n",
        "\n",
        "# Origin-Destination split ratio (mobile phone)\n",
        "mobile_val = np.zeros(shape=[num_mobile, num_ozone, num_od]) # OD split data\n",
        "for m in range(num_mobile):\n",
        "    temp_matrix = np.zeros([num_ozone, num_od])\n",
        "    for i in range(num_od):\n",
        "        od_w = od_df.loc[i]\n",
        "\n",
        "        temp_matrix[int(od_w.ozone_id - 1)][int(od_w.od_id-1)] = od_w.OD_split\n",
        "    mobile_val[m] = temp_matrix\n",
        "\n",
        "\"\"\"Define incidence matrices\"\"\"\n",
        "# link_id to path_id incidence matrix\n",
        "path_link_inc_mat = np.zeros([num_path, num_link])\n",
        "for i in range(num_path):\n",
        "    path_r = path_df.loc[i]\n",
        "    node_list = path_r.node_sequence.split(';')\n",
        "    for link_l in range(len(node_list) - 1):\n",
        "        link_pair = (int(node_list[len(node_list) - 1 - link_l]), int(node_list[len(node_list) - 2 - link_l]))\n",
        "        link_id = link_id_pair_dict[link_pair]\n",
        "        path_link_inc_mat[int(path_r.path_id - 1)][int(link_id - 1)] = 1.0\n",
        "\n",
        "# Path to Origin-Destination incidence matrix\n",
        "od_path_inc_mat = np.zeros([num_od, num_path])\n",
        "for i in range(num_path):\n",
        "    path_r = path_df.loc[i]\n",
        "    path_id = path_r.path_id\n",
        "    od_id = path_od_dict[path_id]\n",
        "    od_path_inc_mat[int(od_id - 1)][int(path_id - 1)] = 1.0\n",
        "\n",
        "# Origin-Destination incidence matrix\n",
        "ozone_od_inc_mat = np.zeros([num_ozone, num_od])\n",
        "for i in range(num_od):\n",
        "    od_w = od_df.loc[i]\n",
        "    od_id = od_w.od_id\n",
        "    ozone_id = od_ozone_dict[od_id]\n",
        "    ozone_od_inc_mat[int(ozone_id - 1)][int(od_id - 1)] = 1.0\n",
        "\n",
        "# Filter sensor > 0,and normalization\n",
        "sensor_mat = np.array(link_df.sensor_count >= 0).astype(float)\n",
        "sensor_mat = sensor_mat / np.sum(sensor_mat)\n",
        "\n",
        "\"\"\"Initialize unknown variables and link each layer\"\"\"\n",
        "# Create layer from ozone to od\n",
        "est_alpha = init_variable([1, num_ozone], 60, 'alpha_')\n",
        "est_gamma = init_variable([num_ozone, num_od], 1, 'gamma_')\n",
        "est_q = connection(est_alpha, est_gamma, ozone_od_inc_mat)\n",
        "\n",
        "# Create layer from od to path\n",
        "est_rho = init_variable([num_od, num_path], 1, 'rho')\n",
        "q_1=tf.constant(1, shape=[1, num_od],dtype=tf.float64)\n",
        "est_f = connection(est_q, est_rho, od_path_inc_mat)  # q*rho\n",
        "est_rho1=connection(q_1, est_rho, od_path_inc_mat)\n",
        "\n",
        "# Create layer from path to link\n",
        "est_v = tf.nn.relu(tf.matmul(est_f, path_link_inc_mat))"
      ],
      "execution_count": null,
      "outputs": []
    },
    {
      "cell_type": "code",
      "metadata": {
        "id": "7z8lDnEoiL6b"
      },
      "source": [
        "\"\"\" Run gradient descent algorithm\"\"\"\n",
        "def gradient_descent_algorithm(est_alpha, est_gamma, est_v, \n",
        "                               survey_val, ozone_od_inc_mat, mobile_val, \n",
        "                               sensor_mat, sensor_val):\n",
        "  # To accumulate each loss value \n",
        "  loss_hist_survey = []\n",
        "  loss_hist_mobile = []\n",
        "  loss_hist_count = []\n",
        "\n",
        "  # Learning Rates\n",
        "  learning_rate_survey = tf.constant(1.0, dtype=tf.float64)\n",
        "  learning_rate_mobile = tf.constant(0.99, dtype=tf.float64)\n",
        "  learning_rate_count  = tf.constant(0.3, dtype=tf.float64)\n",
        "\n",
        "  training_step = 1000\n",
        "\n",
        "  for i in range(training_step):\n",
        "\n",
        "    with tf.GradientTape(persistent=True) as tape:\n",
        "      # Define variables to be tracked\n",
        "      tape.watch(est_alpha)\n",
        "      tape.watch(est_gamma)\n",
        "      tape.watch(est_v)\n",
        "\n",
        "      # Loss between alpha and survey data\n",
        "      loss_f_survey = tf.reduce_mean(tf.pow(tf.subtract(est_alpha, survey_val), 2))\n",
        "      # Loss between gamma and mobile data\n",
        "      loss_f_mobile = tf.reduce_mean(tf.pow(tf.subtract(tf.multiply(est_gamma, ozone_od_inc_mat), mobile_val), 2)) \n",
        "      # Loss between link volume and sensor data\n",
        "      loss_f_count = tf.reduce_mean(tf.pow(tf.subtract(tf.multiply(est_v, sensor_mat), tf.multiply(sensor_val, sensor_mat)), 2))\n",
        "\n",
        "    # Gradients of each loss function\n",
        "    dloss_dalpha = tape.gradient(loss_f_survey, est_alpha)\n",
        "    dloss_dgamma = tape.gradient(loss_f_mobile, est_gamma)\n",
        "    dloss_dcount = tape.gradient(loss_f_count, est_v)\n",
        "\n",
        "    # Updating estimated parameters\n",
        "    est_alpha = est_alpha - learning_rate_survey * dloss_dalpha\n",
        "    est_gamma = est_gamma - learning_rate_mobile * dloss_dgamma\n",
        "    est_v = est_v - learning_rate_count * dloss_dcount\n",
        "\n",
        "    # Accumulate loss values\n",
        "    loss_hist_survey.append(loss_f_survey)\n",
        "    loss_hist_mobile.append(loss_f_mobile)\n",
        "    loss_hist_count.append(loss_f_count)\n",
        "\n",
        "  return loss_hist_survey, loss_hist_mobile, loss_hist_count"
      ],
      "execution_count": null,
      "outputs": []
    },
    {
      "cell_type": "code",
      "metadata": {
        "colab": {
          "base_uri": "https://localhost:8080/",
          "height": 271
        },
        "id": "Rh3CeeX85ABj",
        "outputId": "5a726106-142d-4d76-856b-a7809c76cc9f"
      },
      "source": [
        "Loss = gradient_descent_algorithm(est_alpha, est_gamma, est_v, survey_val, ozone_od_inc_mat, mobile_val, sensor_mat, sensor_val)\n",
        "end = timeit.default_timer()\n",
        "print('Computing Time: ', end - start)\n",
        "\n",
        "# Plot loss functions\n",
        "list_all = [Loss[0], Loss[1], Loss[2]]\n",
        "c = ['r-', 'b-', 'k']\n",
        "name_list = ['survey_loss', 'mobile_loss', 'sensor_loss']\n",
        "plt.figure(figsize=(18, 3.5))\n",
        "\n",
        "for i in range(len(list_all)):\n",
        "  subplot = plt.subplot(1, len(list_all), i+1)\n",
        "  subplot.plot(list_all[i], c[i])\n",
        "  plt.title(name_list[i])"
      ],
      "execution_count": null,
      "outputs": [
        {
          "output_type": "stream",
          "text": [
            "Computing Time:  2.5640099509982974\n"
          ],
          "name": "stdout"
        },
        {
          "output_type": "display_data",
          "data": {
            "image/png": "[encoded data removed]",
            "text/plain": [
              "<Figure size 1296x252 with 3 Axes>"
            ]
          },
          "metadata": {
            "tags": [],
            "needs_background": "light"
          }
        }
      ]
    }
  ]
}